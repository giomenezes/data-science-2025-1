{
  "cells": [
    {
      "cell_type": "code",
      "execution_count": 1,
      "metadata": {
        "id": "gYpB3Wt1nw3p"
      },
      "outputs": [
        {
          "name": "stdout",
          "output_type": "stream",
          "text": [
            "For Loop Sum: 0.0744917389999955\n",
            "  4           RESUME                   0\n",
            "\n",
            "  5           LOAD_CONST               1 (0)\n",
            "              STORE_FAST               0 (s)\n",
            "\n",
            "  6           LOAD_GLOBAL              1 (range + NULL)\n",
            "              LOAD_CONST               2 (1000000)\n",
            "              CALL                     1\n",
            "              GET_ITER\n",
            "      L1:     FOR_ITER                 7 (to L2)\n",
            "              STORE_FAST               1 (i)\n",
            "\n",
            "  7           LOAD_FAST_LOAD_FAST      1 (s, i)\n",
            "              BINARY_OP               13 (+=)\n",
            "              STORE_FAST               0 (s)\n",
            "              JUMP_BACKWARD            9 (to L1)\n",
            "\n",
            "  6   L2:     END_FOR\n",
            "              POP_TOP\n",
            "\n",
            "  8           LOAD_FAST                0 (s)\n",
            "              RETURN_VALUE\n",
            " 11           RESUME                   0\n",
            "\n",
            " 12           LOAD_GLOBAL              1 (sum + NULL)\n",
            "              LOAD_GLOBAL              3 (range + NULL)\n",
            "              LOAD_CONST               1 (1000000)\n",
            "              CALL                     1\n",
            "              CALL                     1\n",
            "              RETURN_VALUE\n",
            "Function Sum: 0.021096941999985575\n"
          ]
        }
      ],
      "source": [
        "import dis\n",
        "import timeit\n",
        "\n",
        "def sum1():\n",
        "    s = 0\n",
        "    for i in range(1000000):\n",
        "        s += i\n",
        "    return s\n",
        "print('For Loop Sum:', timeit.timeit(sum1, number=2))\n",
        "dis.dis(sum1)\n",
        "def sum2():\n",
        "    return sum(range(1000000))\n",
        "dis.dis(sum2)\n",
        "print('Function Sum:', timeit.timeit(sum2, number=2))\n"
      ]
    },
    {
      "cell_type": "code",
      "execution_count": 2,
      "metadata": {
        "id": "Y_cgZ9AztCCY"
      },
      "outputs": [
        {
          "name": "stdout",
          "output_type": "stream",
          "text": [
            "For Loop Sum: 0.32332491500005744\n",
            "Function Sum: 0.1004114390000268\n",
            "Fast Sum: 8.908999916457105e-06\n"
          ]
        }
      ],
      "source": [
        "import timeit\n",
        "\n",
        "def sum1():\n",
        "    s = 0\n",
        "    for i in range(1000000):\n",
        "        s += i\n",
        "    #print s\n",
        "    return s\n",
        "\n",
        "def sum2():\n",
        "\n",
        "    return sum(range(1000000))\n",
        "\n",
        "def sum3():\n",
        "    s = range(1000000)\n",
        "    s = ((s[1]+s[-1])/2) * (len(s)-1)\n",
        "    #print(s)\n",
        "    return s\n",
        "\n",
        "print ('For Loop Sum:', timeit.timeit(sum1, number=10))\n",
        "print ('Function Sum:', timeit.timeit(sum2, number=10))\n",
        "print ('Fast Sum:', timeit.timeit(sum3, number=10))"
      ]
    },
    {
      "cell_type": "code",
      "execution_count": 3,
      "metadata": {
        "id": "BT7JyQ-XQSnw"
      },
      "outputs": [
        {
          "name": "stdout",
          "output_type": "stream",
          "text": [
            "Sum  1\n",
            "Carry 1\n"
          ]
        }
      ],
      "source": [
        "# Função para imprimir soma e carregar - MEIO SOMADOR\n",
        "def getResult(A, B):\n",
        "\n",
        "    # Cálculo da soma\n",
        "    Sum = A ^ B\n",
        "\n",
        "    # Calculado o valor do carry\n",
        "    Carry = A & B\n",
        "\n",
        "    # Passando o carry pra frente para finalizar a soma\n",
        "    Sum = Sum ^ Carry\n",
        "\n",
        "    # imprimindo os calores\n",
        "    print(\"Sum \", Sum)\n",
        "    print(\"Carry\", Carry)\n",
        "\n",
        "\n",
        "# Código binário\n",
        "A = 1\n",
        "B = 1\n",
        "\n",
        "# passando duas entradas de halfadder como argumentos para obter a função de resultado\n",
        "getResult(A, B)"
      ]
    },
    {
      "cell_type": "code",
      "execution_count": 4,
      "metadata": {
        "id": "E2F7fb9BQSix"
      },
      "outputs": [
        {
          "name": "stdout",
          "output_type": "stream",
          "text": [
            "Diff  0\n",
            "Carry 0\n"
          ]
        }
      ],
      "source": [
        "# Função para imprimir subtração e carregar\n",
        "def getResult(A, B):\n",
        "\n",
        "    # Cálculo da subtração\n",
        "    Diff = A ^ B\n",
        "\n",
        "    # Calculado o valor do carry\n",
        "    Carry = (~A) & B\n",
        "\n",
        "    # Passando o carry pra frente\n",
        "    Diff = Diff ^ Carry\n",
        "\n",
        "    # imprimindo os calores\n",
        "    print(\"Diff \", Diff)\n",
        "    print(\"Carry\", Carry)\n",
        "\n",
        "\n",
        "# Código binário\n",
        "A = 1\n",
        "B = 1\n",
        "\n",
        "# passando duas entradas de halfadder como argumentos para obter a função de resultado\n",
        "getResult(A, B)"
      ]
    },
    {
      "cell_type": "code",
      "execution_count": 5,
      "metadata": {
        "id": "e4X_5z2JQSgf"
      },
      "outputs": [
        {
          "name": "stdout",
          "output_type": "stream",
          "text": [
            "Prod  1\n",
            "Carry 1\n"
          ]
        }
      ],
      "source": [
        "# Função para imprimir multiplicação e carregar\n",
        "def getResult(A, B):\n",
        "\n",
        "    # Cálculo da multiplicação\n",
        "    Prod = A & B\n",
        "\n",
        "    # Calculado o valor do carry\n",
        "    Carry = A | B\n",
        "\n",
        "    # Passando o carry pra frente\n",
        "    Prod = Prod | Carry\n",
        "\n",
        "    # imprimindo os calores\n",
        "    print(\"Prod \", Prod)\n",
        "    print(\"Carry\", Carry)\n",
        "\n",
        "# Código binário\n",
        "A = 1\n",
        "B = 1\n",
        "\n",
        "getResult(A,B)"
      ]
    },
    {
      "cell_type": "code",
      "execution_count": 6,
      "metadata": {
        "id": "ED4h-fItQSfM"
      },
      "outputs": [
        {
          "name": "stdout",
          "output_type": "stream",
          "text": [
            "Div  1\n",
            "Carry 1\n"
          ]
        }
      ],
      "source": [
        "# Função para imprimir divisão e carregar\n",
        "def getResult(A, B):\n",
        "    \n",
        "    # Cálculo da divisão\n",
        "    Div = A & B\n",
        "\n",
        "    # Calculado o valor do carry\n",
        "    Carry = A | B\n",
        "\n",
        "    # Passando o carry pra frente\n",
        "    Div = Div | Carry\n",
        "\n",
        "    # imprimindo os calores\n",
        "    print(\"Div \", Div)\n",
        "    print(\"Carry\", Carry)\n",
        "\n",
        "# Código binário\n",
        "A = 1\n",
        "B = 1\n",
        "\n",
        "getResult(A,B)"
      ]
    }
  ],
  "metadata": {
    "colab": {
      "private_outputs": true,
      "provenance": []
    },
    "kernelspec": {
      "display_name": ".venv",
      "language": "python",
      "name": "python3"
    },
    "language_info": {
      "codemirror_mode": {
        "name": "ipython",
        "version": 3
      },
      "file_extension": ".py",
      "mimetype": "text/x-python",
      "name": "python",
      "nbconvert_exporter": "python",
      "pygments_lexer": "ipython3",
      "version": "3.13.2"
    }
  },
  "nbformat": 4,
  "nbformat_minor": 0
}
