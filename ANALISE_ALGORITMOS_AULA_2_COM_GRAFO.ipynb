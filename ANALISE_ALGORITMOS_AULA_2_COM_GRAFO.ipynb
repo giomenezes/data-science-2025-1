{
  "nbformat": 4,
  "nbformat_minor": 0,
  "metadata": {
    "colab": {
      "private_outputs": true,
      "provenance": [],
      "include_colab_link": true
    },
    "kernelspec": {
      "name": "python3",
      "display_name": "Python 3"
    },
    "language_info": {
      "name": "python"
    }
  },
  "cells": [
    {
      "cell_type": "markdown",
      "metadata": {
        "id": "view-in-github",
        "colab_type": "text"
      },
      "source": [
        "<a href=\"https://colab.research.google.com/github/giomenezes/data-science-2025-1/blob/main/ANALISE_ALGORITMOS_AULA_2_COM_GRAFO.ipynb\" target=\"_parent\"><img src=\"https://colab.research.google.com/assets/colab-badge.svg\" alt=\"Open In Colab\"/></a>"
      ]
    },
    {
      "cell_type": "markdown",
      "source": [
        "#Code 001"
      ],
      "metadata": {
        "id": "9VDxl95bJOTO"
      }
    },
    {
      "cell_type": "code",
      "execution_count": null,
      "metadata": {
        "id": "F6xxqRwkHwBy"
      },
      "outputs": [],
      "source": [
        "msg = \"O preço da bolinha é \"\n",
        "preço = \"R$ 100,00\"\n",
        "print(f\"{msg}{preço}\")\n"
      ]
    },
    {
      "cell_type": "markdown",
      "source": [
        "Nesse primeiro código estamos atribuindo a duas variáveis uma string, e depois printamos, de forma concatenada, o valor das variáveis."
      ],
      "metadata": {
        "id": "S1wZ_TBp3Tca"
      }
    },
    {
      "cell_type": "markdown",
      "source": [
        "#Code 002"
      ],
      "metadata": {
        "id": "0yZnkt6aJz--"
      }
    },
    {
      "cell_type": "code",
      "source": [
        "msg = \"O preço da bolinha é \"\n",
        "preço = \"R$ 100,00\"\n",
        "msg = msg + \" \" + preço\n",
        "print(msg)"
      ],
      "metadata": {
        "id": "UlDHYYd2JbgY"
      },
      "execution_count": null,
      "outputs": []
    },
    {
      "cell_type": "markdown",
      "source": [
        "Aqui atribuimos a duas variáveis uma string, e depois substituimos a variável msg com o valor das variáveis que criamos anteriormente, adicionando apenas uma string vazia para representar o espaço entre os valores que serão apresentados no print. Então estamos inserindo na variável msg o valor antigo dela e adicionando mais algumas informações que irão compor sua nova informação."
      ],
      "metadata": {
        "id": "HOP7rl8P3rNk"
      }
    },
    {
      "cell_type": "markdown",
      "source": [
        "# Fazendo uma medida"
      ],
      "metadata": {
        "id": "CkUnOS0MKTSc"
      }
    },
    {
      "cell_type": "code",
      "source": [
        "import psutil\n",
        "\n",
        "print(psutil.cpu_percent())\n",
        "print(psutil.virtual_memory()._asdict())"
      ],
      "metadata": {
        "id": "CxED7S4iKXaL"
      },
      "execution_count": null,
      "outputs": []
    },
    {
      "cell_type": "markdown",
      "source": [
        "Aqui importamos uma lib que nos possibilita ver a porcentagem da cpu, e depois ver as informações de memória da nossa máquina virtual."
      ],
      "metadata": {
        "id": "m64vRWG64RxZ"
      }
    },
    {
      "cell_type": "markdown",
      "source": [
        "# Voltando"
      ],
      "metadata": {
        "id": "H4oybUMILb4S"
      }
    },
    {
      "cell_type": "markdown",
      "source": [
        "# Code 003 - Primeira execução"
      ],
      "metadata": {
        "id": "B2JKFwUVMxcU"
      }
    },
    {
      "cell_type": "code",
      "source": [
        "msg = \"O preço da bolinha é \"\n",
        "print (f\"número id 'msg' curta é {id(msg)}\")\n",
        "preço = \"R$ 100,00\"\n",
        "msg = msg + \" \" + preço\n",
        "print(msg)\n",
        "print(f\"número id 'msg' concatenado é {id(msg)}\")\n"
      ],
      "metadata": {
        "id": "6o2ereh3LaLT"
      },
      "execution_count": null,
      "outputs": []
    },
    {
      "cell_type": "markdown",
      "source": [
        "Nesse código conseguimos ver que o endereço de memória de uma variável é alterado quando mudamos o valor dela."
      ],
      "metadata": {
        "id": "Xx6C5K_l4e8Y"
      }
    },
    {
      "cell_type": "markdown",
      "source": [
        "# Code 003 - Segunda execução"
      ],
      "metadata": {
        "id": "w5FKm1CuNAsC"
      }
    },
    {
      "cell_type": "code",
      "source": [
        "msg = \"O preço da bolinha é \"\n",
        "print (f\"número id 'msg' curta é {id(msg)}\")\n",
        "preço = \"R$ 100,00\"\n",
        "msg = msg + \" \" + preço\n",
        "print(msg)\n",
        "print(f\"número id 'msg' concatenado é {id(msg)}\")"
      ],
      "metadata": {
        "id": "2XKYTcPQM_mE"
      },
      "execution_count": null,
      "outputs": []
    },
    {
      "cell_type": "markdown",
      "source": [
        "#Code 003 - Terceira execução"
      ],
      "metadata": {
        "id": "-3xMyxSDNOs8"
      }
    },
    {
      "cell_type": "code",
      "source": [
        "msg = \"O preço da bolinha é \"\n",
        "print (f\"número id 'msg' curta é {id(msg)}\")\n",
        "preço = \"R$ 100,00\"\n",
        "msg = msg + \" \" + preço\n",
        "print(msg)\n",
        "print(f\"número id 'msg' concatenado é {id(msg)}\")"
      ],
      "metadata": {
        "id": "crmXBCIFNUkL"
      },
      "execution_count": null,
      "outputs": []
    },
    {
      "cell_type": "code",
      "source": [
        "msg = \"O preço da bolinha é \"\n",
        "print (f\"número id 'msg' curta é {id(msg)}\")\n",
        "preço = \"R$ 150,00\"\n",
        "msg = msg + \" \" + preço\n",
        "print(msg)\n",
        "print(f\"número id 'msg' concatenado é {id(msg)}\")"
      ],
      "metadata": {
        "id": "dMgLCGMPNmIg"
      },
      "execution_count": null,
      "outputs": []
    },
    {
      "cell_type": "markdown",
      "source": [
        "# Code 004"
      ],
      "metadata": {
        "id": "kNS1OfIKN29a"
      }
    },
    {
      "cell_type": "code",
      "source": [
        "msg = \"O preço da bolinha é \"\n",
        "print (f\"número id 'msg' curta é {id(msg)}\")\n",
        "preço = \"R$ 100,00\"\n",
        "msg = msg + \" \" + preço\n",
        "print(msg)\n",
        "print(f\"número id 'msg' concatenado é {id(msg)}\")\n",
        "print(hex(id(msg)))"
      ],
      "metadata": {
        "id": "2vWRy1ZkN6Al"
      },
      "execution_count": null,
      "outputs": []
    },
    {
      "cell_type": "markdown",
      "source": [
        "Nesse código ainda podemos ver que o endereço de memória é alterado ao alterar o valor da variável, e também vemos como é o endereço em hexadecimal, fazendo um casting ao printar."
      ],
      "metadata": {
        "id": "VGJrnRqI45nM"
      }
    },
    {
      "cell_type": "markdown",
      "source": [
        "# Vamos a exemplos"
      ],
      "metadata": {
        "id": "X4WYam_9dczX"
      }
    },
    {
      "cell_type": "code",
      "source": [
        "x = 128"
      ],
      "metadata": {
        "id": "0wO2t5xkdinq"
      },
      "execution_count": null,
      "outputs": []
    },
    {
      "cell_type": "markdown",
      "source": [
        "Atribuindo a variável x o valor 128."
      ],
      "metadata": {
        "id": "-xwt5wat5G70"
      }
    },
    {
      "cell_type": "code",
      "source": [
        "print(id(x))"
      ],
      "metadata": {
        "id": "ISxCc4YidnXh"
      },
      "execution_count": null,
      "outputs": []
    },
    {
      "cell_type": "markdown",
      "source": [
        "Printando o endereço de memória atual da variável X."
      ],
      "metadata": {
        "id": "W9tFm3xY5LW4"
      }
    },
    {
      "cell_type": "code",
      "source": [
        "x = 337"
      ],
      "metadata": {
        "id": "ExEmUmoKdvbr"
      },
      "execution_count": null,
      "outputs": []
    },
    {
      "cell_type": "markdown",
      "source": [
        "Atribuindo a variável X um novo valor, agora sendo 337."
      ],
      "metadata": {
        "id": "YVy9t6pK5SpH"
      }
    },
    {
      "cell_type": "code",
      "source": [
        "print(id(x))"
      ],
      "metadata": {
        "id": "CGaVoB2FdzRc"
      },
      "execution_count": null,
      "outputs": []
    },
    {
      "cell_type": "markdown",
      "source": [
        "Printando o novo endereço de memória da variável X."
      ],
      "metadata": {
        "id": "6JKJsELz5ZbI"
      }
    },
    {
      "cell_type": "code",
      "source": [
        "x = 'bolinha'"
      ],
      "metadata": {
        "id": "tveTSX0cd18r"
      },
      "execution_count": null,
      "outputs": []
    },
    {
      "cell_type": "markdown",
      "source": [
        "Alterando o tipo e o valor da variável X, agora ao invés de ser um int, é uma string, com o valor bolinha."
      ],
      "metadata": {
        "id": "3C4qSBnh5d4D"
      }
    },
    {
      "cell_type": "code",
      "source": [
        "print(id(x))"
      ],
      "metadata": {
        "id": "UwNNqw26d6Yk"
      },
      "execution_count": null,
      "outputs": []
    },
    {
      "cell_type": "markdown",
      "source": [
        "Printando o novo endereço de memória da variável X."
      ],
      "metadata": {
        "id": "bEMHXPVQ5mAP"
      }
    },
    {
      "cell_type": "code",
      "source": [
        "y = x"
      ],
      "metadata": {
        "id": "bBDct7xJd-Ut"
      },
      "execution_count": null,
      "outputs": []
    },
    {
      "cell_type": "markdown",
      "source": [
        "Criando uma variável Y que irá apontar para a variável X."
      ],
      "metadata": {
        "id": "y1P0T2oD5qLP"
      }
    },
    {
      "cell_type": "code",
      "source": [
        "print(id(y))"
      ],
      "metadata": {
        "id": "iU2r_VqbeDdE"
      },
      "execution_count": null,
      "outputs": []
    },
    {
      "cell_type": "markdown",
      "source": [
        "Pela variável apontar para a variável X, ela tem o endereço de memória da onde está a variável X."
      ],
      "metadata": {
        "id": "PdkxgL6n5xB8"
      }
    },
    {
      "cell_type": "markdown",
      "source": [
        "#Prestou atenção???????O que ocorreu?????"
      ],
      "metadata": {
        "id": "ki4HtjzHeMBZ"
      }
    },
    {
      "cell_type": "code",
      "source": [
        "del x"
      ],
      "metadata": {
        "id": "KkOxFOfGeXmv"
      },
      "execution_count": null,
      "outputs": []
    },
    {
      "cell_type": "markdown",
      "source": [
        "Deletamos a variável X."
      ],
      "metadata": {
        "id": "CvntC3JS5827"
      }
    },
    {
      "cell_type": "code",
      "source": [
        "print(id(x))"
      ],
      "metadata": {
        "id": "kxm5J1RQef8J"
      },
      "execution_count": null,
      "outputs": []
    },
    {
      "cell_type": "markdown",
      "source": [
        "E ao tentar printar o endereço de memória atual da variável X, ocorre um erro, porque não há mais nenhuma informação naquele pedaço de memória, então ele é removido pelo garbage collector."
      ],
      "metadata": {
        "id": "qhVefUXF5_UF"
      }
    },
    {
      "cell_type": "code",
      "source": [
        "print(id(y))"
      ],
      "metadata": {
        "id": "Q2rBaAZXehFA"
      },
      "execution_count": null,
      "outputs": []
    },
    {
      "cell_type": "markdown",
      "source": [
        "Mas como só deletamos a variável X, o endereço de Y ainda continua o mesmo."
      ],
      "metadata": {
        "id": "PNZ92Z3C6K9L"
      }
    },
    {
      "cell_type": "markdown",
      "source": [
        "Deletamos o X, mas o Y ainda tem armazenado o endereço de memória onde estava o X"
      ],
      "metadata": {
        "id": "PRZxZ6L32Cxx"
      }
    },
    {
      "cell_type": "code",
      "source": [
        "del y"
      ],
      "metadata": {
        "id": "dfQmQjpyeniv"
      },
      "execution_count": null,
      "outputs": []
    },
    {
      "cell_type": "code",
      "source": [
        "print(id(y))"
      ],
      "metadata": {
        "id": "tCeWneWheq2v"
      },
      "execution_count": null,
      "outputs": []
    },
    {
      "cell_type": "markdown",
      "source": [
        "Entretando ao deletar Y e tentar printar seu endereço, ocorre o mesmo erro que ocorreu com X."
      ],
      "metadata": {
        "id": "hiPclcsS6cq7"
      }
    },
    {
      "cell_type": "markdown",
      "source": [
        "# Uma aplicação visual"
      ],
      "metadata": {
        "id": "qfOvXYDofm7b"
      }
    },
    {
      "cell_type": "code",
      "source": [
        "fruit = 'Banana'\n",
        "\n",
        "fruit_id = id(fruit)\n",
        "\n",
        "print(fruit_id)\n"
      ],
      "metadata": {
        "id": "6xB_vashesS4"
      },
      "execution_count": null,
      "outputs": []
    },
    {
      "cell_type": "markdown",
      "source": [
        "Aqui criamos a variável fruit, com a string 'banana', e depois criamos outra variável para armazenar o endereço de memória de fruit, e printamos esse endereço."
      ],
      "metadata": {
        "id": "9hXTA5Sh6n53"
      }
    },
    {
      "cell_type": "code",
      "source": [
        "import ctypes\n",
        "\n",
        "object_info = ctypes.cast(fruit_id, ctypes.py_object).value\n",
        "\n",
        "print(object_info)"
      ],
      "metadata": {
        "id": "GcfK_Lhgfw_o"
      },
      "execution_count": null,
      "outputs": []
    },
    {
      "cell_type": "markdown",
      "source": [
        "Importamos uma lib, utilizamos a função ctypes.cast(), que pega uma variável e o tipo de objeto que está dentro dessa variável, e faz um casting do seu tipo, depois printamos o valor que obtemos dessa variável após a função."
      ],
      "metadata": {
        "id": "tjjAKifd7D07"
      }
    },
    {
      "cell_type": "markdown",
      "source": [
        "#Nota: se vamos a usar o id em nosso script, é conveniente guardá-lo em uma variável, pois ele tem um valor numérico diferente em cada interpretador.\n",
        "\n",
        "Como é de se intuir, a memória de um dispositivo é limitada, por isso devemos nos preocupar em fazer um uso extremamente eficiente dela. Do ponto de vista do desenvolvedor, devemos estar conscientes de evitar criar programas que gerem variáveis sem serem usadas, pois poderíamos saturar a memória disponível. A isso chamamos de 'memory leaks' ou fuga de memória. Saturar a memória disponível fará com que o programa se feche de forma repentina, que desacelere o funcionamento do sistema em geral ou até mesmo que ele trave.\n",
        "\n",
        "Para evitar esse uso excessivo de memória, principalmente quando os objetos já não estão sendo utilizados na execução do programa, o Python conta com um sistema de contagem de referências. Ele conta as referências que apontam para um objeto em concreto, de forma que, devolve as variáveis que apontam para esse valor (direta ou indiretamente).\n",
        "\n",
        "O contador será incrementado quando uma variável é inicializada, quando é passada como parâmetro para uma função ou quando um objeto faz referência a outro. O contador será decrementado quando uma referência desaparece (por exemplo, ao eliminar uma variável ou mudá-la de contexto). Quando o número de referências é zero, esse espaço de memória é liberado para ser ocupado por outra variável.\n",
        "\n",
        "No seguinte exemplo vemos que as variáveis 'fruits' e 'my_fruits' têm o mesmo id, pois a segunda aponta para a primeira:"
      ],
      "metadata": {
        "id": "T_32T7N9gcIk"
      }
    },
    {
      "cell_type": "code",
      "source": [
        "import sys\n",
        "fruits = ['Laranja', 'Pera', 'Melão']\n",
        "\n",
        "my_fruits = fruits\n",
        "\n",
        "print(id(fruits))\n",
        "\n",
        "print(id(my_fruits))\n",
        "print(sys.getrefcount(fruits))\n",
        "print(sys.getrefcount(my_fruits))\n"
      ],
      "metadata": {
        "id": "KCczwQY-gsDm"
      },
      "execution_count": null,
      "outputs": []
    },
    {
      "cell_type": "markdown",
      "source": [
        "Podemos notar também que a contagem de refêrencia se dá em 3: 1º quando criamos a variavel, 2º quando utilizamos no parâmetro da função de ver o id, e 3º no parâmetro da função de ver a contagem de referências."
      ],
      "metadata": {
        "id": "cZaU0UQRcg5X"
      }
    },
    {
      "cell_type": "markdown",
      "source": [
        "#Declaramos outra variável que, entre outros elementos, contém a variável 'fruits'. Ou seja, ela contém uma referência a 'fruits':"
      ],
      "metadata": {
        "id": "X6yF739Zg6bJ"
      }
    },
    {
      "cell_type": "code",
      "source": [
        "import ctypes\n",
        "import sys"
      ],
      "metadata": {
        "id": "2s-qag5w2NgW"
      },
      "execution_count": null,
      "outputs": []
    },
    {
      "cell_type": "code",
      "source": [
        "other_fruits = ['Morango', 'Abacaxi', 'Cereja', [fruits]]\n",
        "print(other_fruits)\n",
        "print(sys.getrefcount(other_fruits))\n",
        "print(id(other_fruits))\n",
        "print(sys.getrefcount(fruits))\n",
        "print(fruits)\n",
        "print(id(fruits))\n",
        "fruits_id = id(fruits)\n",
        "other_fruits_id = id(other_fruits)\n",
        "object_info1 = ctypes.cast(fruits_id, ctypes.py_object).value\n",
        "object_info2 = ctypes.cast(other_fruits_id, ctypes.py_object).value\n",
        "\n",
        "print(object_info1)\n",
        "print(object_info2)"
      ],
      "metadata": {
        "id": "Orby3EYSg6wQ"
      },
      "execution_count": null,
      "outputs": []
    },
    {
      "cell_type": "markdown",
      "source": [
        "Após criar a variável other_fruits, a variável fruits passou a ter 3 referências a mais, sendo elas: 1º ao criar other_fruits, e as outras duas ao usar as funções sys.getrefcount, e id(other_fruits). Após isso, salvamos o endereço da memória de ambas as variáveis e salvamos as informações de cada variável em novas, utilizando a função de ctypes.cast, já explicada anteriormente, e finalizamos o código printando o resultado de cada objeto."
      ],
      "metadata": {
        "id": "PdOdj20edjim"
      }
    },
    {
      "cell_type": "code",
      "source": [
        "import sys"
      ],
      "metadata": {
        "id": "5Z3nay9O6OY1"
      },
      "execution_count": null,
      "outputs": []
    },
    {
      "cell_type": "code",
      "source": [
        "# Cria a lista  bolinha fruits\n",
        "bolinha_fruits = ['Morango', 'Abacaxi', 'Cereja']\n",
        "\n",
        "# Cria lista fruits\n",
        "fruits = ['Laranja', 'Pera', 'Melão']\n",
        "\n",
        "# Mostra a contagem de referência bolinha_fruits\n",
        "print(sys.getrefcount(bolinha_fruits))\n",
        "\n",
        "# Obtém o id bolinha_fruits\n",
        "bolinha_fruits_id = id(bolinha_fruits)\n",
        "\n",
        "# Mostra o id de bolinha_fruits\n",
        "print(id(bolinha_fruits))\n",
        "\n",
        "# Mostra a contagen de referência fruits\n",
        "print(sys.getrefcount(fruits))\n",
        "\n",
        "# Obtem id fruits para para objeto Python\n",
        "object_info = ctypes.cast(bolinha_fruits_id, ctypes.py_object).value\n",
        "\n",
        "# Mostra a informação do objeto\n",
        "print(object_info)"
      ],
      "metadata": {
        "id": "VOHwdosU59_D"
      },
      "execution_count": null,
      "outputs": []
    },
    {
      "cell_type": "markdown",
      "source": [
        "Só temos 2 referências a lista bolinha_fruits porque elas são: 1º ao criar e 2º ao utilizar para printar a quantidade de referências até aquele momento no código, antes de fazer a função de printar seu endereço da memória. A mesma coisa acontece com a lista fruits. E por fim printamos, o agora objeto Python, que antes era a lista bolinha_fruits."
      ],
      "metadata": {
        "id": "0LOHPVaWfbN_"
      }
    },
    {
      "cell_type": "code",
      "source": [
        "import sys\n",
        "\n",
        "print(sys.getrefcount(fruits))\n",
        "print(sys.getrefcount(my_fruits))\n",
        "print(sys.getrefcount(other_fruits))\n"
      ],
      "metadata": {
        "id": "VmSBDDYvlO2v"
      },
      "execution_count": null,
      "outputs": []
    },
    {
      "cell_type": "markdown",
      "source": [
        "Por termos substituído os valores de fruits, a contagem de referência ao seu novo endereço de memória são apenas 3, mas como não alteramos os das outras variáveis, eles se mantiveram os mesmos das células passadas."
      ],
      "metadata": {
        "id": "MWC4NLvChFFf"
      }
    },
    {
      "cell_type": "markdown",
      "source": [
        "#Para eliminar um objeto em Python usamos a função del que eliminará as referências que essa variável tem sobre o objeto.\n",
        "\n",
        "O que aconteceria com a variável my_fruits se eliminássemos fruits? É curioso, mas apesar de terem o mesmo id, a referência é mantida. O mesmo aconteceria com a variável other_fruits."
      ],
      "metadata": {
        "id": "yBtil8iFhG38"
      }
    },
    {
      "cell_type": "code",
      "source": [
        "del fruits\n",
        "\n",
        "# print(id(fruits))\n",
        "print(id(my_fruits))\n",
        "print(id(other_fruits))"
      ],
      "metadata": {
        "id": "KXF91ohhhpD3"
      },
      "execution_count": null,
      "outputs": []
    },
    {
      "cell_type": "markdown",
      "source": [
        "#Nota: usar a função .del() não implica que se eliminem todas as referências da variável, já que pode haver outros objetos ou variáveis que ainda estejam fazendo referência ao mesmo.\n",
        "\n",
        "Para saber o número de referências que tem um objeto fazemos uso do módulo sys e a função .getrefcount(). A seguir vemos quantas referências tem a variável other_fruits:"
      ],
      "metadata": {
        "id": "rMkS5vx6iYke"
      }
    },
    {
      "cell_type": "code",
      "source": [
        "import sys\n",
        "\n",
        "references = sys.getrefcount(other_fruits)\n",
        "\n",
        "print(references)"
      ],
      "metadata": {
        "id": "KCMvLqogiaiq"
      },
      "execution_count": null,
      "outputs": []
    },
    {
      "cell_type": "code",
      "source": [
        "\n",
        "# print(sys.getrefcount(fruits))\n",
        "print(sys.getrefcount(my_fruits))\n",
        "print(sys.getrefcount(other_fruits))"
      ],
      "metadata": {
        "id": "ii6mekosmEoc"
      },
      "execution_count": null,
      "outputs": []
    },
    {
      "cell_type": "markdown",
      "source": [
        "Se não comentarmos:\n",
        "```\n",
        "  print(sys.getrefcount(fruits))\n",
        "```\n",
        "ocorre um erro porque deletamos a var fruits"
      ],
      "metadata": {
        "id": "B5Jl6pV6iiKs"
      }
    },
    {
      "cell_type": "code",
      "source": [
        "del my_fruits"
      ],
      "metadata": {
        "id": "kwhmwEh_mL3L"
      },
      "execution_count": null,
      "outputs": []
    },
    {
      "cell_type": "markdown",
      "source": [
        "Deletamos a var my_fruits."
      ],
      "metadata": {
        "id": "13r2a6bAi_Gd"
      }
    },
    {
      "cell_type": "code",
      "source": [
        "# print(sys.getrefcount(my_fruits))\n",
        "print(sys.getrefcount(other_fruits))"
      ],
      "metadata": {
        "id": "0PIfF_95mO9W"
      },
      "execution_count": null,
      "outputs": []
    },
    {
      "cell_type": "markdown",
      "source": [
        "Ocorre o mesmo erro anterior, por my_fruits não existir mais, não é possível printar sua contagem de referências."
      ],
      "metadata": {
        "id": "l6DghdgJi0C5"
      }
    },
    {
      "cell_type": "code",
      "source": [
        "import graphviz"
      ],
      "metadata": {
        "id": "p_j_Ai97nrXr"
      },
      "execution_count": null,
      "outputs": []
    },
    {
      "cell_type": "markdown",
      "source": [
        "Importamos uma lib para visualização de grafos."
      ],
      "metadata": {
        "id": "saDGzhIljtF0"
      }
    },
    {
      "cell_type": "code",
      "source": [
        "from graphviz import Graph"
      ],
      "metadata": {
        "id": "ioUjyrCMoqj7"
      },
      "execution_count": null,
      "outputs": []
    },
    {
      "cell_type": "markdown",
      "source": [
        "E dessa lib, importamos os grafos."
      ],
      "metadata": {
        "id": "H8cjtlGEjxfl"
      }
    },
    {
      "cell_type": "code",
      "source": [
        "!pip install objgraph"
      ],
      "metadata": {
        "id": "D8bQYNY9RI5x"
      },
      "execution_count": null,
      "outputs": []
    },
    {
      "cell_type": "markdown",
      "source": [
        "Instalamos no python objgraph, que é um módulo que te permite explorar visualmente um objetos grafos em Python usando o graphviz."
      ],
      "metadata": {
        "id": "zEcOcG6rj0y6"
      }
    },
    {
      "cell_type": "code",
      "source": [
        "import objgraph"
      ],
      "metadata": {
        "id": "gNMjeRTASy97"
      },
      "execution_count": null,
      "outputs": []
    },
    {
      "cell_type": "markdown",
      "source": [
        "Importamos para o projeto o objgraph para conseguir usar"
      ],
      "metadata": {
        "id": "n4GjY29klrJe"
      }
    },
    {
      "cell_type": "code",
      "source": [
        "!pip install xdot"
      ],
      "metadata": {
        "id": "w07RjHlTaCR4"
      },
      "execution_count": null,
      "outputs": []
    },
    {
      "cell_type": "markdown",
      "source": [
        "Com o pip, instalamos o xdot, que é um visualizados interativo para grafos criados com o Graphviz"
      ],
      "metadata": {
        "id": "ApToxuMvlwBu"
      }
    },
    {
      "cell_type": "code",
      "source": [
        "fruit = 'Banana'\n",
        "\n",
        "bolinha_fruits = ['Morango', 'Abacaxi', 'Cereja', fruit, [fruits], [fruits]]\n",
        "\n",
        "objgraph.show_refs([bolinha_fruits], filename='other_fruit5.png')"
      ],
      "metadata": {
        "id": "3qScl43oYVcX"
      },
      "execution_count": null,
      "outputs": []
    },
    {
      "cell_type": "markdown",
      "source": [
        "E recriamos a lista bolinha_fruits, adicionando a variável fruit, e (depois de recriar fruits) adicionando duas vezes a lista fruits. Criando uma imagem para exibir o objeto bolinha_fruits em grafo."
      ],
      "metadata": {
        "id": "-bCDDYncmGUp"
      }
    }
  ]
}