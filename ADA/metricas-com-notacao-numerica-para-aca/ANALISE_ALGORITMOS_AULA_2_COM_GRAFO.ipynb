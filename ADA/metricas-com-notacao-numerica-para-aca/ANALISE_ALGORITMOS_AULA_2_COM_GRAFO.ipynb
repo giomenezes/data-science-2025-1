{
  "nbformat": 4,
  "nbformat_minor": 0,
  "metadata": {
    "colab": {
      "private_outputs": true,
      "provenance": []
    },
    "kernelspec": {
      "name": "python3",
      "display_name": "Python 3"
    },
    "language_info": {
      "name": "python"
    }
  },
  "cells": [
    {
      "cell_type": "markdown",
      "source": [
        "#Code 001"
      ],
      "metadata": {
        "id": "9VDxl95bJOTO"
      }
    },
    {
      "cell_type": "code",
      "execution_count": null,
      "metadata": {
        "id": "F6xxqRwkHwBy"
      },
      "outputs": [],
      "source": [
        "msg = \"O preço da bolinha é \"\n",
        "preço = \"R$ 100,00\"\n",
        "print(f\"{msg}{preço}\")\n"
      ]
    },
    {
      "cell_type": "markdown",
      "source": [
        "#Code 002"
      ],
      "metadata": {
        "id": "0yZnkt6aJz--"
      }
    },
    {
      "cell_type": "code",
      "source": [
        "msg = \"O preço da bolinha é \"\n",
        "preço = \"R$ 100,00\"\n",
        "msg = msg + \" \" + preço\n",
        "print(msg)"
      ],
      "metadata": {
        "id": "UlDHYYd2JbgY"
      },
      "execution_count": null,
      "outputs": []
    },
    {
      "cell_type": "markdown",
      "source": [
        "# Fazendo uma medida"
      ],
      "metadata": {
        "id": "CkUnOS0MKTSc"
      }
    },
    {
      "cell_type": "code",
      "source": [
        "import psutil\n",
        "\n",
        "print(psutil.cpu_percent())\n",
        "print(psutil.virtual_memory()._asdict())"
      ],
      "metadata": {
        "id": "CxED7S4iKXaL"
      },
      "execution_count": null,
      "outputs": []
    },
    {
      "cell_type": "markdown",
      "source": [
        "# Voltando"
      ],
      "metadata": {
        "id": "H4oybUMILb4S"
      }
    },
    {
      "cell_type": "markdown",
      "source": [
        "# Code 003 - Primeira execução"
      ],
      "metadata": {
        "id": "B2JKFwUVMxcU"
      }
    },
    {
      "cell_type": "code",
      "source": [
        "msg = \"O preço da bolinha é \"\n",
        "print (f\"número id 'msg' curta é {id(msg)}\")\n",
        "preço = \"R$ 100,00\"\n",
        "msg = msg + \" \" + preço\n",
        "print(msg)\n",
        "print(f\"número id 'msg' concatenado é {id(msg)}\")\n"
      ],
      "metadata": {
        "id": "6o2ereh3LaLT"
      },
      "execution_count": null,
      "outputs": []
    },
    {
      "cell_type": "markdown",
      "source": [
        "# Code 003 - Segunda execução"
      ],
      "metadata": {
        "id": "w5FKm1CuNAsC"
      }
    },
    {
      "cell_type": "code",
      "source": [
        "msg = \"O preço da bolinha é \"\n",
        "print (f\"número id 'msg' curta é {id(msg)}\")\n",
        "preço = \"R$ 100,00\"\n",
        "msg = msg + \" \" + preço\n",
        "print(msg)\n",
        "print(f\"número id 'msg' concatenado é {id(msg)}\")"
      ],
      "metadata": {
        "id": "2XKYTcPQM_mE"
      },
      "execution_count": null,
      "outputs": []
    },
    {
      "cell_type": "markdown",
      "source": [
        "#Code 003 - Terceira execução"
      ],
      "metadata": {
        "id": "-3xMyxSDNOs8"
      }
    },
    {
      "cell_type": "code",
      "source": [
        "msg = \"O preço da bolinha é \"\n",
        "print (f\"número id 'msg' curta é {id(msg)}\")\n",
        "preço = \"R$ 100,00\"\n",
        "msg = msg + \" \" + preço\n",
        "print(msg)\n",
        "print(f\"número id 'msg' concatenado é {id(msg)}\")"
      ],
      "metadata": {
        "id": "crmXBCIFNUkL"
      },
      "execution_count": null,
      "outputs": []
    },
    {
      "cell_type": "code",
      "source": [
        "msg = \"O preço da bolinha é \"\n",
        "print (f\"número id 'msg' curta é {id(msg)}\")\n",
        "preço = \"R$ 150,00\"\n",
        "msg = msg + \" \" + preço\n",
        "print(msg)\n",
        "print(f\"número id 'msg' concatenado é {id(msg)}\")"
      ],
      "metadata": {
        "id": "dMgLCGMPNmIg"
      },
      "execution_count": null,
      "outputs": []
    },
    {
      "cell_type": "markdown",
      "source": [
        "# Code 004"
      ],
      "metadata": {
        "id": "kNS1OfIKN29a"
      }
    },
    {
      "cell_type": "code",
      "source": [
        "msg = \"O preço da bolinha é \"\n",
        "print (f\"número id 'msg' curta é {id(msg)}\")\n",
        "preço = \"R$ 100,00\"\n",
        "msg = msg + \" \" + preço\n",
        "print(msg)\n",
        "print(f\"número id 'msg' concatenado é {id(msg)}\")\n",
        "print(hex(id(msg)))"
      ],
      "metadata": {
        "id": "2vWRy1ZkN6Al"
      },
      "execution_count": null,
      "outputs": []
    },
    {
      "cell_type": "markdown",
      "source": [
        "# Vamos a exemplos"
      ],
      "metadata": {
        "id": "X4WYam_9dczX"
      }
    },
    {
      "cell_type": "code",
      "source": [
        "x = 128"
      ],
      "metadata": {
        "id": "0wO2t5xkdinq"
      },
      "execution_count": null,
      "outputs": []
    },
    {
      "cell_type": "code",
      "source": [
        "print(id(x))"
      ],
      "metadata": {
        "id": "ISxCc4YidnXh"
      },
      "execution_count": null,
      "outputs": []
    },
    {
      "cell_type": "code",
      "source": [
        "x = 337"
      ],
      "metadata": {
        "id": "ExEmUmoKdvbr"
      },
      "execution_count": null,
      "outputs": []
    },
    {
      "cell_type": "code",
      "source": [
        "print(id(x))"
      ],
      "metadata": {
        "id": "CGaVoB2FdzRc"
      },
      "execution_count": null,
      "outputs": []
    },
    {
      "cell_type": "code",
      "source": [
        "x = 'bolinha'"
      ],
      "metadata": {
        "id": "tveTSX0cd18r"
      },
      "execution_count": null,
      "outputs": []
    },
    {
      "cell_type": "code",
      "source": [
        "print(id(x))"
      ],
      "metadata": {
        "id": "UwNNqw26d6Yk"
      },
      "execution_count": null,
      "outputs": []
    },
    {
      "cell_type": "code",
      "source": [
        "y = x"
      ],
      "metadata": {
        "id": "bBDct7xJd-Ut"
      },
      "execution_count": null,
      "outputs": []
    },
    {
      "cell_type": "code",
      "source": [
        "print(id(y))"
      ],
      "metadata": {
        "id": "iU2r_VqbeDdE"
      },
      "execution_count": null,
      "outputs": []
    },
    {
      "cell_type": "markdown",
      "source": [
        "#Prestou atenção???????O que ocorreu?????"
      ],
      "metadata": {
        "id": "ki4HtjzHeMBZ"
      }
    },
    {
      "cell_type": "code",
      "source": [
        "del x"
      ],
      "metadata": {
        "id": "KkOxFOfGeXmv"
      },
      "execution_count": null,
      "outputs": []
    },
    {
      "cell_type": "code",
      "source": [
        "print(id(x))"
      ],
      "metadata": {
        "id": "kxm5J1RQef8J"
      },
      "execution_count": null,
      "outputs": []
    },
    {
      "cell_type": "code",
      "source": [
        "print(id(y))"
      ],
      "metadata": {
        "id": "Q2rBaAZXehFA"
      },
      "execution_count": null,
      "outputs": []
    },
    {
      "cell_type": "code",
      "source": [
        "del y"
      ],
      "metadata": {
        "id": "dfQmQjpyeniv"
      },
      "execution_count": null,
      "outputs": []
    },
    {
      "cell_type": "code",
      "source": [
        "print(id(y))"
      ],
      "metadata": {
        "id": "tCeWneWheq2v"
      },
      "execution_count": null,
      "outputs": []
    },
    {
      "cell_type": "markdown",
      "source": [
        "# Uma aplicação visual"
      ],
      "metadata": {
        "id": "qfOvXYDofm7b"
      }
    },
    {
      "cell_type": "code",
      "source": [
        "fruit = 'Banana'\n",
        "\n",
        "fruit_id = id(fruit)\n",
        "\n",
        "print(fruit_id)\n"
      ],
      "metadata": {
        "id": "6xB_vashesS4"
      },
      "execution_count": null,
      "outputs": []
    },
    {
      "cell_type": "code",
      "source": [
        "import ctypes\n",
        "\n",
        "object_info = ctypes.cast(fruit_id, ctypes.py_object).value\n",
        "\n",
        "print(object_info)"
      ],
      "metadata": {
        "id": "GcfK_Lhgfw_o"
      },
      "execution_count": null,
      "outputs": []
    },
    {
      "cell_type": "markdown",
      "source": [
        "#Nota: se vamos a usar o id em nosso script, é conveniente guardá-lo em uma variável, pois ele tem um valor numérico diferente em cada interpretador.\n",
        "\n",
        "Como é de se intuir, a memória de um dispositivo é limitada, por isso devemos nos preocupar em fazer um uso extremamente eficiente dela. Do ponto de vista do desenvolvedor, devemos estar conscientes de evitar criar programas que gerem variáveis sem serem usadas, pois poderíamos saturar a memória disponível. A isso chamamos de 'memory leaks' ou fuga de memória. Saturar a memória disponível fará com que o programa se feche de forma repentina, que desacelere o funcionamento do sistema em geral ou até mesmo que ele trave.\n",
        "\n",
        "Para evitar esse uso excessivo de memória, principalmente quando os objetos já não estão sendo utilizados na execução do programa, o Python conta com um sistema de contagem de referências. Ele conta as referências que apontam para um objeto em concreto, de forma que, devolve as variáveis que apontam para esse valor (direta ou indiretamente).\n",
        "\n",
        "O contador será incrementado quando uma variável é inicializada, quando é passada como parâmetro para uma função ou quando um objeto faz referência a outro. O contador será decrementado quando uma referência desaparece (por exemplo, ao eliminar uma variável ou mudá-la de contexto). Quando o número de referências é zero, esse espaço de memória é liberado para ser ocupado por outra variável.\n",
        "\n",
        "No seguinte exemplo vemos que as variáveis 'fruits' e 'my_fruits' têm o mesmo id, pois a segunda aponta para a primeira:"
      ],
      "metadata": {
        "id": "T_32T7N9gcIk"
      }
    },
    {
      "cell_type": "code",
      "source": [
        "import sys\n",
        "fruits = ['Laranja', 'Pera', 'Melão']\n",
        "\n",
        "my_fruits = fruits\n",
        "\n",
        "print(id(fruits))\n",
        "\n",
        "print(id(my_fruits))\n",
        "print(sys.getrefcount(fruits))\n",
        "print(sys.getrefcount(my_fruits))\n"
      ],
      "metadata": {
        "id": "KCczwQY-gsDm"
      },
      "execution_count": null,
      "outputs": []
    },
    {
      "cell_type": "markdown",
      "source": [
        "#Declaramos outra variável que, entre outros elementos, contém a variável 'fruits'. Ou seja, ela contém uma referência a 'fruits':"
      ],
      "metadata": {
        "id": "X6yF739Zg6bJ"
      }
    },
    {
      "cell_type": "code",
      "source": [
        "import ctypes\n",
        "import sys"
      ],
      "metadata": {
        "id": "2s-qag5w2NgW"
      },
      "execution_count": null,
      "outputs": []
    },
    {
      "cell_type": "code",
      "source": [
        "other_fruits = ['Morango', 'Abacaxi', 'Cereja', [fruits]]\n",
        "print(other_fruits)\n",
        "print(sys.getrefcount(other_fruits))\n",
        "print(id(other_fruits))\n",
        "print(sys.getrefcount(fruits))\n",
        "print(fruits)\n",
        "print(id(fruits))\n",
        "fruits_id = id(fruits)\n",
        "other_fruits_id = id(other_fruits)\n",
        "object_info1 = ctypes.cast(fruits_id, ctypes.py_object).value\n",
        "object_info2 = ctypes.cast(other_fruits_id, ctypes.py_object).value\n",
        "\n",
        "print(object_info1)\n",
        "print(object_info2)"
      ],
      "metadata": {
        "id": "Orby3EYSg6wQ"
      },
      "execution_count": null,
      "outputs": []
    },
    {
      "cell_type": "code",
      "source": [
        "import sys"
      ],
      "metadata": {
        "id": "5Z3nay9O6OY1"
      },
      "execution_count": null,
      "outputs": []
    },
    {
      "cell_type": "code",
      "source": [
        "# Cria a lista  bolinha fruits\n",
        "bolinha_fruits = ['Morango', 'Abacaxi', 'Cereja']\n",
        "\n",
        "# Cria lista fruits\n",
        "fruits = ['Laranja', 'Pera', 'Melão']\n",
        "\n",
        "# Mostra a contagem de referência bolinha_fruits\n",
        "print(sys.getrefcount(bolinha_fruits))\n",
        "\n",
        "# Obtém o id bolinha_fruits\n",
        "bolinha_fruits_id = id(bolinha_fruits)\n",
        "\n",
        "# Mostra o id de bolinha_fruits\n",
        "print(id(bolinha_fruits))\n",
        "\n",
        "# Mostra a contagen de referência fruits\n",
        "print(sys.getrefcount(fruits))\n",
        "\n",
        "# Obtem id fruits para para objeto Python\n",
        "object_info = ctypes.cast(bolinha_fruits_id, ctypes.py_object).value\n",
        "\n",
        "# Mostra a informação do objeto\n",
        "print(object_info)"
      ],
      "metadata": {
        "id": "VOHwdosU59_D"
      },
      "execution_count": null,
      "outputs": []
    },
    {
      "cell_type": "code",
      "source": [
        "import sys\n",
        "\n",
        "print(sys.getrefcount(fruits))\n",
        "print(sys.getrefcount(my_fruits))\n",
        "print(sys.getrefcount(other_fruits))\n"
      ],
      "metadata": {
        "id": "VmSBDDYvlO2v"
      },
      "execution_count": null,
      "outputs": []
    },
    {
      "cell_type": "markdown",
      "source": [
        "#Para eliminar um objeto em Python usamos a função del que eliminará as referências que essa variável tem sobre o objeto.\n",
        "\n",
        "O que aconteceria com a variável my_fruits se eliminássemos fruits? É curioso, mas apesar de terem o mesmo id, a referência é mantida. O mesmo aconteceria com a variável other_fruits."
      ],
      "metadata": {
        "id": "yBtil8iFhG38"
      }
    },
    {
      "cell_type": "code",
      "source": [
        "#del fruits\n",
        "\n",
        "print(id(fruits))\n",
        "print(id(my_fruits))\n",
        "print(id(other_fruits))"
      ],
      "metadata": {
        "id": "KXF91ohhhpD3"
      },
      "execution_count": null,
      "outputs": []
    },
    {
      "cell_type": "markdown",
      "source": [
        "#Nota: usar a função .del() não implica que se eliminem todas as referências da variável, já que pode haver outros objetos ou variáveis que ainda estejam fazendo referência ao mesmo.\n",
        "\n",
        "Para saber o número de referências que tem um objeto fazemos uso do módulo sys e a função .getrefcount(). A seguir vemos quantas referências tem a variável other_fruits:"
      ],
      "metadata": {
        "id": "rMkS5vx6iYke"
      }
    },
    {
      "cell_type": "code",
      "source": [
        "import sys\n",
        "\n",
        "references = sys.getrefcount(other_fruits)\n",
        "\n",
        "print(references)"
      ],
      "metadata": {
        "id": "KCMvLqogiaiq"
      },
      "execution_count": null,
      "outputs": []
    },
    {
      "cell_type": "code",
      "source": [
        "\n",
        "print(sys.getrefcount(fruits))\n",
        "print(sys.getrefcount(my_fruits))\n",
        "print(sys.getrefcount(other_fruits))"
      ],
      "metadata": {
        "id": "ii6mekosmEoc"
      },
      "execution_count": null,
      "outputs": []
    },
    {
      "cell_type": "code",
      "source": [
        "del my_fruits"
      ],
      "metadata": {
        "id": "kwhmwEh_mL3L"
      },
      "execution_count": null,
      "outputs": []
    },
    {
      "cell_type": "code",
      "source": [
        "print(sys.getrefcount(my_fruits))\n",
        "print(sys.getrefcount(other_fruits))"
      ],
      "metadata": {
        "id": "0PIfF_95mO9W"
      },
      "execution_count": null,
      "outputs": []
    },
    {
      "cell_type": "code",
      "source": [
        "import graphviz"
      ],
      "metadata": {
        "id": "p_j_Ai97nrXr"
      },
      "execution_count": null,
      "outputs": []
    },
    {
      "cell_type": "code",
      "source": [
        "from graphviz import Graph"
      ],
      "metadata": {
        "id": "ioUjyrCMoqj7"
      },
      "execution_count": null,
      "outputs": []
    },
    {
      "cell_type": "code",
      "source": [
        "!pip install objgraph"
      ],
      "metadata": {
        "id": "D8bQYNY9RI5x"
      },
      "execution_count": null,
      "outputs": []
    },
    {
      "cell_type": "code",
      "source": [
        "import objgraph"
      ],
      "metadata": {
        "id": "gNMjeRTASy97"
      },
      "execution_count": null,
      "outputs": []
    },
    {
      "cell_type": "code",
      "source": [
        "!pip install xdot"
      ],
      "metadata": {
        "id": "w07RjHlTaCR4"
      },
      "execution_count": null,
      "outputs": []
    },
    {
      "cell_type": "code",
      "source": [
        "fruit = 'Banana'\n",
        "\n",
        "bolinha_fruits = ['Morango', 'Abacaxi', 'Cereja', fruit, [fruits], [fruits]]\n",
        "\n",
        "objgraph.show_refs([bolinha_fruits], filename='other_fruit5.png')"
      ],
      "metadata": {
        "id": "3qScl43oYVcX"
      },
      "execution_count": null,
      "outputs": []
    }
  ]
}